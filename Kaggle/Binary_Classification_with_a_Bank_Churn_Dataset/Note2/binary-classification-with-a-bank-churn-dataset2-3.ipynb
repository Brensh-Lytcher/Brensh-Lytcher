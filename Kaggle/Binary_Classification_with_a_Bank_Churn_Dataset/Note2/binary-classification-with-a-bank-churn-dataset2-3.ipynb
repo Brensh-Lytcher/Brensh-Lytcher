{
 "cells": [
  {
   "cell_type": "markdown",
   "id": "f06f2a86",
   "metadata": {
    "papermill": {
     "duration": 0.006979,
     "end_time": "2024-06-20T08:04:18.789304",
     "exception": false,
     "start_time": "2024-06-20T08:04:18.782325",
     "status": "completed"
    },
    "tags": []
   },
   "source": [
    "# Binary Classification with a Bank Churn Dataset 2-3\n",
    "## 1. ライブラリ"
   ]
  },
  {
   "cell_type": "code",
   "execution_count": 1,
   "id": "392d6739",
   "metadata": {
    "execution": {
     "iopub.execute_input": "2024-06-20T08:04:18.804347Z",
     "iopub.status.busy": "2024-06-20T08:04:18.803985Z",
     "iopub.status.idle": "2024-06-20T08:04:21.817539Z",
     "shell.execute_reply": "2024-06-20T08:04:21.816548Z"
    },
    "papermill": {
     "duration": 3.024066,
     "end_time": "2024-06-20T08:04:21.820345",
     "exception": false,
     "start_time": "2024-06-20T08:04:18.796279",
     "status": "completed"
    },
    "tags": []
   },
   "outputs": [],
   "source": [
    "import numpy as np\n",
    "import pandas as pd\n",
    "from sklearn.preprocessing import OrdinalEncoder\n",
    "from sklearn.preprocessing import OneHotEncoder\n",
    "import matplotlib.pyplot as plt\n",
    "import seaborn as sns\n",
    "from sklearn.model_selection import train_test_split\n",
    "\n",
    "from sklearn.ensemble import RandomForestClassifier\n",
    "from sklearn.neural_network import MLPClassifier\n",
    "from sklearn.neighbors import KNeighborsClassifier"
   ]
  },
  {
   "cell_type": "markdown",
   "id": "17474f50",
   "metadata": {
    "papermill": {
     "duration": 0.006072,
     "end_time": "2024-06-20T08:04:21.832846",
     "exception": false,
     "start_time": "2024-06-20T08:04:21.826774",
     "status": "completed"
    },
    "tags": []
   },
   "source": [
    "## 2. データの整理¶\n",
    "### 2.1. データ取入れ"
   ]
  },
  {
   "cell_type": "code",
   "execution_count": 2,
   "id": "d3d7b7b0",
   "metadata": {
    "execution": {
     "iopub.execute_input": "2024-06-20T08:04:21.847606Z",
     "iopub.status.busy": "2024-06-20T08:04:21.846521Z",
     "iopub.status.idle": "2024-06-20T08:04:22.770641Z",
     "shell.execute_reply": "2024-06-20T08:04:22.769505Z"
    },
    "papermill": {
     "duration": 0.934357,
     "end_time": "2024-06-20T08:04:22.773403",
     "exception": false,
     "start_time": "2024-06-20T08:04:21.839046",
     "status": "completed"
    },
    "tags": []
   },
   "outputs": [],
   "source": [
    "# Binary Classification with a Bank Churn Dataset のデータセット\n",
    "dir_path = '/kaggle/input/playground-series-s4e1/'\n",
    "test = pd.read_csv(dir_path + 'test.csv')       # テストデータ\n",
    "train = pd.read_csv(dir_path + 'train.csv')     # 訓練データ\n",
    "samp_sub = pd.read_csv(dir_path + 'sample_submission.csv')\n",
    "\n",
    "# Bank Customer Churn Prediction のデータセット\n",
    "original = pd.read_csv('/kaggle/input/bank-customer-churn-prediction/Churn_Modelling.csv')\n",
    "original = original.rename({'RowNumber':'id'}, axis = 1)    # 根源データ"
   ]
  },
  {
   "cell_type": "markdown",
   "id": "55746685",
   "metadata": {
    "papermill": {
     "duration": 0.006039,
     "end_time": "2024-06-20T08:04:22.785921",
     "exception": false,
     "start_time": "2024-06-20T08:04:22.779882",
     "status": "completed"
    },
    "tags": []
   },
   "source": [
    "### 2.2. originalの整理"
   ]
  },
  {
   "cell_type": "code",
   "execution_count": 3,
   "id": "3dd21e10",
   "metadata": {
    "execution": {
     "iopub.execute_input": "2024-06-20T08:04:22.800443Z",
     "iopub.status.busy": "2024-06-20T08:04:22.799790Z",
     "iopub.status.idle": "2024-06-20T08:04:22.817991Z",
     "shell.execute_reply": "2024-06-20T08:04:22.816838Z"
    },
    "papermill": {
     "duration": 0.02861,
     "end_time": "2024-06-20T08:04:22.820803",
     "exception": false,
     "start_time": "2024-06-20T08:04:22.792193",
     "status": "completed"
    },
    "tags": []
   },
   "outputs": [],
   "source": [
    "original = original.drop(index=[4, 6, 8, 9, 9999, 10001])  # 欠損と重複データの削除\n",
    "or_tr = pd.concat([train, original])    # 結合データ"
   ]
  },
  {
   "cell_type": "markdown",
   "id": "6a4e220c",
   "metadata": {
    "papermill": {
     "duration": 0.006142,
     "end_time": "2024-06-20T08:04:22.833368",
     "exception": false,
     "start_time": "2024-06-20T08:04:22.827226",
     "status": "completed"
    },
    "tags": []
   },
   "source": [
    "### 2.3. 型変換"
   ]
  },
  {
   "cell_type": "code",
   "execution_count": 4,
   "id": "6bdd6c70",
   "metadata": {
    "execution": {
     "iopub.execute_input": "2024-06-20T08:04:22.847802Z",
     "iopub.status.busy": "2024-06-20T08:04:22.847014Z",
     "iopub.status.idle": "2024-06-20T08:04:22.964475Z",
     "shell.execute_reply": "2024-06-20T08:04:22.963347Z"
    },
    "papermill": {
     "duration": 0.127494,
     "end_time": "2024-06-20T08:04:22.967122",
     "exception": false,
     "start_time": "2024-06-20T08:04:22.839628",
     "status": "completed"
    },
    "tags": []
   },
   "outputs": [],
   "source": [
    "# 国データを整数データに変換するカテゴリ\n",
    "Geography_cat = {'France'  : 0,\n",
    "                 'Spain'   : 1,\n",
    "                 'Germany' : 2}\n",
    "# 性別データを整数データに変換するカテゴリ\n",
    "Gender_cat = {'Female' : 0,\n",
    "              'Male'   : 1}\n",
    "\n",
    "# 全データの型変換\n",
    "for data in [train, test, original, or_tr]:\n",
    "    data.Geography = data.Geography.map(Geography_cat)\n",
    "    data.Gender = data.Gender.map(Gender_cat)"
   ]
  },
  {
   "cell_type": "markdown",
   "id": "fa9bc0e4",
   "metadata": {
    "papermill": {
     "duration": 0.006207,
     "end_time": "2024-06-20T08:04:22.979818",
     "exception": false,
     "start_time": "2024-06-20T08:04:22.973611",
     "status": "completed"
    },
    "tags": []
   },
   "source": [
    "### 2.4. 作成した特徴量"
   ]
  },
  {
   "cell_type": "code",
   "execution_count": 5,
   "id": "1a1bf958",
   "metadata": {
    "execution": {
     "iopub.execute_input": "2024-06-20T08:04:22.994029Z",
     "iopub.status.busy": "2024-06-20T08:04:22.993612Z",
     "iopub.status.idle": "2024-06-20T08:06:49.285830Z",
     "shell.execute_reply": "2024-06-20T08:06:49.284871Z"
    },
    "papermill": {
     "duration": 146.302643,
     "end_time": "2024-06-20T08:06:49.288755",
     "exception": false,
     "start_time": "2024-06-20T08:04:22.986112",
     "status": "completed"
    },
    "tags": []
   },
   "outputs": [],
   "source": [
    "# CustomerIdの使用回数\n",
    "# trainとtest\n",
    "CI_used_t_cat = {}\n",
    "for ci in set(train.CustomerId.unique()).union(set(test.CustomerId.unique())):\n",
    "    # CustomerIdとその(trainとtest中の)使用回数を対応させるカテゴリ\n",
    "    CI_used_t_cat[ci] = len(train[train.CustomerId==ci]) + len(test[test.CustomerId==ci])\n",
    "for data in [train, test]:\n",
    "    data['CI_used_t'] = data.CustomerId.map(CI_used_t_cat)\n",
    "\n",
    "# or_trとtest\n",
    "CI_used_ot_cat = {}\n",
    "for ci in set(or_tr.CustomerId.unique()).union(set(test.CustomerId.unique())):\n",
    "    # CustomerIdとその(or_trとtest中の)使用回数を対応させるカテゴリ\n",
    "    CI_used_ot_cat[ci] = len(or_tr[or_tr.CustomerId==ci]) + len(test[test.CustomerId==ci])\n",
    "for data in [or_tr, test]:\n",
    "    data['CI_used_ot'] = data.CustomerId.map(CI_used_ot_cat)\n",
    "\n",
    "    \n",
    "# 各CustomerIdの口座解除率\n",
    "# trainとtest\n",
    "CI_rate_t_cat = {}\n",
    "rate_t = train.Exited.sum()/len(train)\n",
    "for ci in train.CustomerId.unique():\n",
    "    # CustomerIdとその(train中の)口座解除確率を対応させる\n",
    "    CI_rate_t_cat[ci] = (len(train[(train.CustomerId==ci)&(train.Exited==1)])+rate_t)/(len(train[train.CustomerId==ci])+1)\n",
    "for ci in set(test.CustomerId.unique())-set(train.CustomerId.unique()):\n",
    "    # trainにないCustomerIdをtrain全体の口座解除確率に対応させる\n",
    "    CI_rate_t_cat[ci] = rate_t\n",
    "for data in [train, test]:\n",
    "    data['CI_rate_t'] = data.CustomerId.map(CI_rate_t_cat)\n",
    "    \n",
    "# or_trとtest\n",
    "CI_rate_ot_cat = {}\n",
    "rate_ot = or_tr.Exited.sum()/len(or_tr)\n",
    "for ci in or_tr.CustomerId.unique():\n",
    "    # CustomerIdとその(or_tr中の)口座解除確率を対応させる\n",
    "    CI_rate_ot_cat[ci] = (len(or_tr[(or_tr.CustomerId==ci)&(or_tr.Exited==1)])+rate_ot)/(len(or_tr[or_tr.CustomerId==ci])+1)\n",
    "for ci in set(test.CustomerId.unique())-set(or_tr.CustomerId.unique()):\n",
    "    # or_trにないCustomerIdをor_tr全体の口座解除確率に対応させる\n",
    "    CI_rate_ot_cat[ci] = rate_ot\n",
    "for data in [or_tr, test]:\n",
    "    data['CI_rate_ot'] = data.CustomerId.map(CI_rate_ot_cat)"
   ]
  },
  {
   "cell_type": "markdown",
   "id": "18b83ab9",
   "metadata": {
    "papermill": {
     "duration": 0.006019,
     "end_time": "2024-06-20T08:06:49.301325",
     "exception": false,
     "start_time": "2024-06-20T08:06:49.295306",
     "status": "completed"
    },
    "tags": []
   },
   "source": [
    "### 2.5. スケーリング"
   ]
  },
  {
   "cell_type": "code",
   "execution_count": 6,
   "id": "1b77741e",
   "metadata": {
    "execution": {
     "iopub.execute_input": "2024-06-20T08:06:49.315349Z",
     "iopub.status.busy": "2024-06-20T08:06:49.314704Z",
     "iopub.status.idle": "2024-06-20T08:06:49.369889Z",
     "shell.execute_reply": "2024-06-20T08:06:49.368753Z"
    },
    "papermill": {
     "duration": 0.065284,
     "end_time": "2024-06-20T08:06:49.372603",
     "exception": false,
     "start_time": "2024-06-20T08:06:49.307319",
     "status": "completed"
    },
    "tags": []
   },
   "outputs": [],
   "source": [
    "for data in [train, test, original, or_tr]:\n",
    "    data.CreditScore = (data.CreditScore-data.CreditScore.min())/(data.CreditScore.max()-data.CreditScore.min())\n",
    "    data.Geography = data.Geography/2\n",
    "    data.Age = data.Age/100\n",
    "    data.Tenure = data.Tenure/10\n",
    "    data.Balance = (data.Balance-data.Balance.min())/(data.Balance.max()-data.Balance.min())\n",
    "    data.NumOfProducts = data.NumOfProducts/4\n",
    "    data.EstimatedSalary = (data.EstimatedSalary-data.EstimatedSalary.min())/(data.EstimatedSalary.max()-data.EstimatedSalary.min())\n",
    "    if 'CI_used_ot' in data.columns:\n",
    "        data.CI_used_ot = data.CI_used_ot/200\n",
    "    if 'CI_used_t' in data.columns:\n",
    "        data.CI_used_t = data.CI_used_t/200"
   ]
  },
  {
   "cell_type": "markdown",
   "id": "edbdff18",
   "metadata": {
    "papermill": {
     "duration": 0.005956,
     "end_time": "2024-06-20T08:06:49.384935",
     "exception": false,
     "start_time": "2024-06-20T08:06:49.378979",
     "status": "completed"
    },
    "tags": []
   },
   "source": [
    "## 3. originalデータの有効性調査"
   ]
  },
  {
   "cell_type": "code",
   "execution_count": 7,
   "id": "dc85d98c",
   "metadata": {
    "execution": {
     "iopub.execute_input": "2024-06-20T08:06:49.398686Z",
     "iopub.status.busy": "2024-06-20T08:06:49.398294Z",
     "iopub.status.idle": "2024-06-20T10:02:34.776033Z",
     "shell.execute_reply": "2024-06-20T10:02:34.774814Z"
    },
    "papermill": {
     "duration": 6945.394951,
     "end_time": "2024-06-20T10:02:34.785975",
     "exception": false,
     "start_time": "2024-06-20T08:06:49.391024",
     "status": "completed"
    },
    "tags": []
   },
   "outputs": [
    {
     "data": {
      "image/png": "[encoded data removed]",
      "text/plain": [
       "<Figure size 640x480 with 1 Axes>"
      ]
     },
     "metadata": {},
     "output_type": "display_data"
    }
   ],
   "source": [
    "features_for_train = ['CreditScore', 'Geography', 'Age', 'Tenure', 'Balance', \n",
    "                      'NumOfProducts', 'IsActiveMember', 'EstimatedSalary',\n",
    "                      'CI_used_t', 'CI_rate_t']\n",
    "features_for_or_tr = ['CreditScore', 'Geography', 'Age', 'Tenure', 'Balance',\n",
    "                      'NumOfProducts', 'IsActiveMember', 'EstimatedSalary',\n",
    "                      'CI_used_ot', 'CI_rate_ot']\n",
    "scores = [[],[]]\n",
    "for i in range(10):\n",
    "    tra_tr, val_tr = train_test_split(train, test_size=0.3)\n",
    "    rfc_tr = RandomForestClassifier(criterion='log_loss', max_depth=20, max_features=3, n_estimators=3000, random_state = 0, n_jobs=-1)\n",
    "    rfc_tr.fit(tra_tr[features_for_train], tra_tr.Exited)\n",
    "    scores[0].append(rfc_tr.score(val_tr[features_for_train], val_tr.Exited))\n",
    "for i in range(10):\n",
    "    tra_ot, val_ot = train_test_split(or_tr, test_size=0.3)\n",
    "    rfc_ot = RandomForestClassifier(criterion='log_loss', max_depth=20, max_features=3, n_estimators=3000, random_state = 0, n_jobs=-1)\n",
    "    rfc_ot.fit(tra_ot[features_for_or_tr], tra_ot.Exited)\n",
    "    scores[1].append(rfc_ot.score(val_ot[features_for_or_tr], val_ot.Exited))\n",
    "\n",
    "fig, ax = plt.subplots()\n",
    "ax.boxplot(scores)\n",
    "ax.set_xticklabels(['train', 'or_tr'])\n",
    "ax.set_ylabel('score')\n",
    "plt.show()"
   ]
  },
  {
   "cell_type": "markdown",
   "id": "f2227285",
   "metadata": {
    "papermill": {
     "duration": 0.006629,
     "end_time": "2024-06-20T10:02:34.799408",
     "exception": false,
     "start_time": "2024-06-20T10:02:34.792779",
     "status": "completed"
    },
    "tags": []
   },
   "source": [
    "## 4. 新しい特徴量の作成\n",
    "### 4.1. Surnameの現れる回数"
   ]
  },
  {
   "cell_type": "code",
   "execution_count": 8,
   "id": "964dcbff",
   "metadata": {
    "execution": {
     "iopub.execute_input": "2024-06-20T10:02:34.814894Z",
     "iopub.status.busy": "2024-06-20T10:02:34.814479Z",
     "iopub.status.idle": "2024-06-20T10:05:03.959742Z",
     "shell.execute_reply": "2024-06-20T10:05:03.958415Z"
    },
    "papermill": {
     "duration": 149.156604,
     "end_time": "2024-06-20T10:05:03.962824",
     "exception": false,
     "start_time": "2024-06-20T10:02:34.806220",
     "status": "completed"
    },
    "tags": []
   },
   "outputs": [],
   "source": [
    "# Surnameの現れる回数\n",
    "sur_used_cat = {}\n",
    "for s in set(train.Surname.unique()).union(set(test.Surname.unique())):\n",
    "    sur_used_cat[s] = len(train[train.Surname==s]) + len(test[test.Surname==s])\n",
    "for data in [train, test]:\n",
    "    data['Sur_used'] = data.Surname.map(sur_used_cat)"
   ]
  },
  {
   "cell_type": "markdown",
   "id": "4ef498d5",
   "metadata": {
    "papermill": {
     "duration": 0.006687,
     "end_time": "2024-06-20T10:05:03.976918",
     "exception": false,
     "start_time": "2024-06-20T10:05:03.970231",
     "status": "completed"
    },
    "tags": []
   },
   "source": [
    "### 4.2. 各Surnameの口座解除率"
   ]
  },
  {
   "cell_type": "code",
   "execution_count": 9,
   "id": "01ac524c",
   "metadata": {
    "execution": {
     "iopub.execute_input": "2024-06-20T10:05:03.992529Z",
     "iopub.status.busy": "2024-06-20T10:05:03.992077Z",
     "iopub.status.idle": "2024-06-20T10:07:58.189169Z",
     "shell.execute_reply": "2024-06-20T10:07:58.187672Z"
    },
    "papermill": {
     "duration": 174.208176,
     "end_time": "2024-06-20T10:07:58.192049",
     "exception": false,
     "start_time": "2024-06-20T10:05:03.983873",
     "status": "completed"
    },
    "tags": []
   },
   "outputs": [],
   "source": [
    "# 各Surnameの口座解除率\n",
    "# rate_t = train.Exited.sum()/len(train)\n",
    "sur_rate_cat = {}\n",
    "for s in train.Surname.unique():\n",
    "    sur_rate_cat[s] = (len(train[(train.Surname==s)&(train.Exited==1)])+rate_t)/(len(train[train.Surname==s])+1)\n",
    "for s in set(test.Surname.unique())-set(train.Surname.unique()):\n",
    "    sur_rate_cat[s] = rate_t\n",
    "for data in [train, test]:\n",
    "    data['Sur_rate'] = data.Surname.map(sur_rate_cat)"
   ]
  },
  {
   "cell_type": "markdown",
   "id": "e78faa5c",
   "metadata": {
    "papermill": {
     "duration": 0.007439,
     "end_time": "2024-06-20T10:07:58.207062",
     "exception": false,
     "start_time": "2024-06-20T10:07:58.199623",
     "status": "completed"
    },
    "tags": []
   },
   "source": [
    "### 4.3. 特徴量の検証"
   ]
  },
  {
   "cell_type": "code",
   "execution_count": 10,
   "id": "c6471055",
   "metadata": {
    "execution": {
     "iopub.execute_input": "2024-06-20T10:07:58.225740Z",
     "iopub.status.busy": "2024-06-20T10:07:58.225324Z",
     "iopub.status.idle": "2024-06-20T13:09:44.268660Z",
     "shell.execute_reply": "2024-06-20T13:09:44.266482Z"
    },
    "papermill": {
     "duration": 10906.067886,
     "end_time": "2024-06-20T13:09:44.282762",
     "exception": false,
     "start_time": "2024-06-20T10:07:58.214876",
     "status": "completed"
    },
    "tags": []
   },
   "outputs": [
    {
     "data": {
      "image/png": "[encoded data removed]",
      "text/plain": [
       "<Figure size 640x480 with 1 Axes>"
      ]
     },
     "metadata": {},
     "output_type": "display_data"
    }
   ],
   "source": [
    "features_for_val = ['CreditScore', 'Geography', 'Age', 'Tenure', 'Balance', \n",
    "                    'NumOfProducts', 'IsActiveMember', 'EstimatedSalary',\n",
    "                    'CI_used_t', 'CI_rate_t']\n",
    "new_features = ['Sur_used', 'Sur_rate']\n",
    "scores = [[]]\n",
    "for i in range(10):\n",
    "    tra, val = train_test_split(train, test_size=0.3)\n",
    "    rfc = RandomForestClassifier(criterion='log_loss', max_depth=20, max_features=3, n_estimators=3000, random_state = 0, n_jobs=-1)\n",
    "    rfc.fit(tra[features_for_val], tra.Exited)\n",
    "    scores[-1].append(rfc.score(val[features_for_val], val.Exited))\n",
    "for nf in new_features:\n",
    "    scores.append([])\n",
    "    for i in range(10):\n",
    "        tra, val = train_test_split(train, test_size=0.3)\n",
    "        rfc = RandomForestClassifier(criterion='log_loss', max_depth=20, max_features=3, n_estimators=3000, random_state = 0, n_jobs=-1)\n",
    "        rfc.fit(tra[features_for_val+[nf]], tra.Exited)\n",
    "        scores[-1].append(rfc.score(val[features_for_val+[nf]], val.Exited))\n",
    "fig, ax = plt.subplots()\n",
    "ax.boxplot(scores)\n",
    "ax.set_xticklabels(['without_new_feature']+new_features)\n",
    "ax.set_ylabel('score')\n",
    "plt.show()"
   ]
  }
 ],
 "metadata": {
  "kaggle": {
   "accelerator": "none",
   "dataSources": [
    {
     "databundleVersionId": 7405009,
     "sourceId": 65711,
     "sourceType": "competition"
    },
    {
     "datasetId": 3191230,
     "sourceId": 5536933,
     "sourceType": "datasetVersion"
    }
   ],
   "dockerImageVersionId": 30732,
   "isGpuEnabled": false,
   "isInternetEnabled": true,
   "language": "python",
   "sourceType": "notebook"
  },
  "kernelspec": {
   "display_name": "Python 3",
   "language": "python",
   "name": "python3"
  },
  "language_info": {
   "codemirror_mode": {
    "name": "ipython",
    "version": 3
   },
   "file_extension": ".py",
   "mimetype": "text/x-python",
   "name": "python",
   "nbconvert_exporter": "python",
   "pygments_lexer": "ipython3",
   "version": "3.10.13"
  },
  "papermill": {
   "default_parameters": {},
   "duration": 18332.362353,
   "end_time": "2024-06-20T13:09:48.190371",
   "environment_variables": {},
   "exception": null,
   "input_path": "__notebook__.ipynb",
   "output_path": "__notebook__.ipynb",
   "parameters": {},
   "start_time": "2024-06-20T08:04:15.828018",
   "version": "2.5.0"
  }
 },
 "nbformat": 4,
 "nbformat_minor": 5
}
