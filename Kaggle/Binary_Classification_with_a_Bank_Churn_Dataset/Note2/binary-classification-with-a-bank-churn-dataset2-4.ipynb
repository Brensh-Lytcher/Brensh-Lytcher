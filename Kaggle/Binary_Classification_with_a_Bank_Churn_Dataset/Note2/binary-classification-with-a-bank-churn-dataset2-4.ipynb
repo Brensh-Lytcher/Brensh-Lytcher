{
 "cells": [
  {
   "cell_type": "markdown",
   "id": "5174225d",
   "metadata": {
    "papermill": {
     "duration": 0.004253,
     "end_time": "2024-06-21T04:11:51.544979",
     "exception": false,
     "start_time": "2024-06-21T04:11:51.540726",
     "status": "completed"
    },
    "tags": []
   },
   "source": [
    "# Binary Classification with a Bank Churn Dataset2-4\n",
    "## (現在のスコアの確認)\n",
    "## 1. ライブラリ"
   ]
  },
  {
   "cell_type": "code",
   "execution_count": 1,
   "id": "4318765f",
   "metadata": {
    "execution": {
     "iopub.execute_input": "2024-06-21T04:11:51.554399Z",
     "iopub.status.busy": "2024-06-21T04:11:51.553995Z",
     "iopub.status.idle": "2024-06-21T04:11:54.322754Z",
     "shell.execute_reply": "2024-06-21T04:11:54.321706Z"
    },
    "papermill": {
     "duration": 2.77643,
     "end_time": "2024-06-21T04:11:54.325335",
     "exception": false,
     "start_time": "2024-06-21T04:11:51.548905",
     "status": "completed"
    },
    "tags": []
   },
   "outputs": [],
   "source": [
    "import numpy as np\n",
    "import pandas as pd\n",
    "from sklearn.preprocessing import OrdinalEncoder\n",
    "from sklearn.preprocessing import OneHotEncoder\n",
    "import matplotlib.pyplot as plt\n",
    "import seaborn as sns\n",
    "from sklearn.model_selection import train_test_split\n",
    "\n",
    "from sklearn.ensemble import RandomForestClassifier\n",
    "from sklearn.neural_network import MLPClassifier"
   ]
  },
  {
   "cell_type": "markdown",
   "id": "c65c3ddf",
   "metadata": {
    "papermill": {
     "duration": 0.003502,
     "end_time": "2024-06-21T04:11:54.332706",
     "exception": false,
     "start_time": "2024-06-21T04:11:54.329204",
     "status": "completed"
    },
    "tags": []
   },
   "source": [
    "## 2. データの整理\n",
    "### 2.1. データ取入れ"
   ]
  },
  {
   "cell_type": "code",
   "execution_count": 2,
   "id": "32853db9",
   "metadata": {
    "execution": {
     "iopub.execute_input": "2024-06-21T04:11:54.342094Z",
     "iopub.status.busy": "2024-06-21T04:11:54.341504Z",
     "iopub.status.idle": "2024-06-21T04:11:54.995318Z",
     "shell.execute_reply": "2024-06-21T04:11:54.994137Z"
    },
    "papermill": {
     "duration": 0.661497,
     "end_time": "2024-06-21T04:11:54.997922",
     "exception": false,
     "start_time": "2024-06-21T04:11:54.336425",
     "status": "completed"
    },
    "tags": []
   },
   "outputs": [],
   "source": [
    "# Binary Classification with a Bank Churn Dataset のデータセット\n",
    "dir_path = '/kaggle/input/playground-series-s4e1/'\n",
    "test = pd.read_csv(dir_path + 'test.csv')       # テストデータ\n",
    "train = pd.read_csv(dir_path + 'train.csv')     # 訓練データ\n",
    "samp_sub = pd.read_csv(dir_path + 'sample_submission.csv')"
   ]
  },
  {
   "cell_type": "markdown",
   "id": "9ecc130b",
   "metadata": {
    "papermill": {
     "duration": 0.003514,
     "end_time": "2024-06-21T04:11:55.005258",
     "exception": false,
     "start_time": "2024-06-21T04:11:55.001744",
     "status": "completed"
    },
    "tags": []
   },
   "source": [
    "### 2.2. 型変換"
   ]
  },
  {
   "cell_type": "code",
   "execution_count": 3,
   "id": "33b67bb6",
   "metadata": {
    "execution": {
     "iopub.execute_input": "2024-06-21T04:11:55.014266Z",
     "iopub.status.busy": "2024-06-21T04:11:55.013871Z",
     "iopub.status.idle": "2024-06-21T04:11:55.064455Z",
     "shell.execute_reply": "2024-06-21T04:11:55.063423Z"
    },
    "papermill": {
     "duration": 0.05805,
     "end_time": "2024-06-21T04:11:55.067036",
     "exception": false,
     "start_time": "2024-06-21T04:11:55.008986",
     "status": "completed"
    },
    "tags": []
   },
   "outputs": [],
   "source": [
    "# 国データを整数データに変換するカテゴリ\n",
    "Geography_cat = {'France'  : 0,\n",
    "                 'Spain'   : 1,\n",
    "                 'Germany' : 2}\n",
    "# 性別データを整数データに変換するカテゴリ\n",
    "Gender_cat = {'Female' : 0,\n",
    "              'Male'   : 1}\n",
    "\n",
    "# 全データの型変換\n",
    "for data in [train, test]:\n",
    "    data.Geography = data.Geography.map(Geography_cat)\n",
    "    data.Gender = data.Gender.map(Gender_cat)"
   ]
  },
  {
   "cell_type": "markdown",
   "id": "21b3036f",
   "metadata": {
    "papermill": {
     "duration": 0.003372,
     "end_time": "2024-06-21T04:11:55.074151",
     "exception": false,
     "start_time": "2024-06-21T04:11:55.070779",
     "status": "completed"
    },
    "tags": []
   },
   "source": [
    "### 2.3. 作成した特徴量"
   ]
  },
  {
   "cell_type": "code",
   "execution_count": 4,
   "id": "b8b83afd",
   "metadata": {
    "execution": {
     "iopub.execute_input": "2024-06-21T04:11:55.082758Z",
     "iopub.status.busy": "2024-06-21T04:11:55.082366Z",
     "iopub.status.idle": "2024-06-21T04:15:15.539521Z",
     "shell.execute_reply": "2024-06-21T04:15:15.538212Z"
    },
    "papermill": {
     "duration": 200.464934,
     "end_time": "2024-06-21T04:15:15.542538",
     "exception": false,
     "start_time": "2024-06-21T04:11:55.077604",
     "status": "completed"
    },
    "tags": []
   },
   "outputs": [],
   "source": [
    "# CustomerIdの使用回数\n",
    "CI_used_cat = {}\n",
    "for ci in set(train.CustomerId.unique()).union(set(test.CustomerId.unique())):\n",
    "    CI_used_cat[ci] = len(train[train.CustomerId==ci]) + len(test[test.CustomerId==ci])\n",
    "for data in [train, test]:\n",
    "    data['CI_used'] = data.CustomerId.map(CI_used_cat)\n",
    "    \n",
    "# 各CustomerIdの口座解除率\n",
    "CI_rate_cat = {}\n",
    "rate_t = train.Exited.sum()/len(train)\n",
    "for ci in train.CustomerId.unique():\n",
    "    # CustomerIdとその(train中の)口座解除確率を対応させる\n",
    "    CI_rate_cat[ci] = (len(train[(train.CustomerId==ci)&(train.Exited==1)])+rate_t)/(len(train[train.CustomerId==ci])+1)\n",
    "for ci in set(test.CustomerId.unique())-set(train.CustomerId.unique()):\n",
    "    # trainにないCustomerIdをtrain全体の口座解除確率に対応させる\n",
    "    CI_rate_cat[ci] = rate_t\n",
    "for data in [train, test]:\n",
    "    data['CI_rate'] = data.CustomerId.map(CI_rate_cat)\n",
    "    \n",
    "# Surnameの現れる回数\n",
    "sur_used_cat = {}\n",
    "for s in set(train.Surname.unique()).union(set(test.Surname.unique())):\n",
    "    sur_used_cat[s] = len(train[train.Surname==s]) + len(test[test.Surname==s])\n",
    "for data in [train, test]:\n",
    "    data['Sur_used'] = data.Surname.map(sur_used_cat)\n",
    "    \n",
    "# 各Surnameの口座解除率\n",
    "sur_rate_cat = {}\n",
    "for s in train.Surname.unique():\n",
    "    sur_rate_cat[s] = (len(train[(train.Surname==s)&(train.Exited==1)])+rate_t)/(len(train[train.Surname==s])+1)\n",
    "for s in set(test.Surname.unique())-set(train.Surname.unique()):\n",
    "    sur_rate_cat[s] = rate_t\n",
    "for data in [train, test]:\n",
    "    data['Sur_rate'] = data.Surname.map(sur_rate_cat)"
   ]
  },
  {
   "cell_type": "markdown",
   "id": "635cd757",
   "metadata": {
    "papermill": {
     "duration": 0.003524,
     "end_time": "2024-06-21T04:15:15.550452",
     "exception": false,
     "start_time": "2024-06-21T04:15:15.546928",
     "status": "completed"
    },
    "tags": []
   },
   "source": [
    "### 2.4. スケーリング"
   ]
  },
  {
   "cell_type": "code",
   "execution_count": 5,
   "id": "dda9b778",
   "metadata": {
    "execution": {
     "iopub.execute_input": "2024-06-21T04:15:15.559800Z",
     "iopub.status.busy": "2024-06-21T04:15:15.559355Z",
     "iopub.status.idle": "2024-06-21T04:15:15.590500Z",
     "shell.execute_reply": "2024-06-21T04:15:15.589402Z"
    },
    "papermill": {
     "duration": 0.039074,
     "end_time": "2024-06-21T04:15:15.593228",
     "exception": false,
     "start_time": "2024-06-21T04:15:15.554154",
     "status": "completed"
    },
    "tags": []
   },
   "outputs": [],
   "source": [
    "for data in [train, test]:\n",
    "    data.CreditScore = (data.CreditScore-data.CreditScore.min())/(data.CreditScore.max()-data.CreditScore.min())\n",
    "    data.Geography = data.Geography/2\n",
    "    data.Age = data.Age/100\n",
    "    data.Tenure = data.Tenure/10\n",
    "    data.Balance = (data.Balance-data.Balance.min())/(data.Balance.max()-data.Balance.min())\n",
    "    data.NumOfProducts = data.NumOfProducts/4\n",
    "    data.EstimatedSalary = (data.EstimatedSalary-data.EstimatedSalary.min())/(data.EstimatedSalary.max()-data.EstimatedSalary.min())\n",
    "    data.CI_used = data.CI_used/200\n",
    "    data.Sur_used = data.Sur_used/5000"
   ]
  },
  {
   "cell_type": "markdown",
   "id": "53ec1baa",
   "metadata": {
    "papermill": {
     "duration": 0.004318,
     "end_time": "2024-06-21T04:15:15.601496",
     "exception": false,
     "start_time": "2024-06-21T04:15:15.597178",
     "status": "completed"
    },
    "tags": []
   },
   "source": [
    "## 3. testデータの予測\n",
    "### 3.1. 予測・出力関数"
   ]
  },
  {
   "cell_type": "code",
   "execution_count": 6,
   "id": "cb70f8aa",
   "metadata": {
    "execution": {
     "iopub.execute_input": "2024-06-21T04:15:15.611787Z",
     "iopub.status.busy": "2024-06-21T04:15:15.611344Z",
     "iopub.status.idle": "2024-06-21T04:15:15.618865Z",
     "shell.execute_reply": "2024-06-21T04:15:15.617522Z"
    },
    "papermill": {
     "duration": 0.016233,
     "end_time": "2024-06-21T04:15:15.621879",
     "exception": false,
     "start_time": "2024-06-21T04:15:15.605646",
     "status": "completed"
    },
    "tags": []
   },
   "outputs": [],
   "source": [
    "def predictor(model, features, train=train, test=test):\n",
    "    model.fit(train[features], train.Exited)\n",
    "    prediction = model.predict(test[features])\n",
    "    output = pd.DataFrame({'id':test.id, 'Exited':prediction})\n",
    "    output.to_csv('submission.csv', index=False)"
   ]
  },
  {
   "cell_type": "markdown",
   "id": "db8d8f78",
   "metadata": {
    "papermill": {
     "duration": 0.004997,
     "end_time": "2024-06-21T04:15:15.633085",
     "exception": false,
     "start_time": "2024-06-21T04:15:15.628088",
     "status": "completed"
    },
    "tags": []
   },
   "source": [
    "### 3.2. 予測"
   ]
  },
  {
   "cell_type": "code",
   "execution_count": 7,
   "id": "0a4b7935",
   "metadata": {
    "execution": {
     "iopub.execute_input": "2024-06-21T04:15:15.643330Z",
     "iopub.status.busy": "2024-06-21T04:15:15.642929Z",
     "iopub.status.idle": "2024-06-21T04:15:15.652372Z",
     "shell.execute_reply": "2024-06-21T04:15:15.651287Z"
    },
    "papermill": {
     "duration": 0.017878,
     "end_time": "2024-06-21T04:15:15.654899",
     "exception": false,
     "start_time": "2024-06-21T04:15:15.637021",
     "status": "completed"
    },
    "tags": []
   },
   "outputs": [],
   "source": [
    "# ランダムフォレスト1\n",
    "# features = ['CreditScore', 'Geography', 'Age', 'Tenure', 'Balance', \n",
    "#             'NumOfProducts', 'IsActiveMember', 'EstimatedSalary',\n",
    "#             'CI_used', 'CI_rate', 'Sur_used', 'Sur_rate']\n",
    "# rfc1 = RandomForestClassifier(criterion='log_loss', max_depth=15, max_features=2, n_estimators=4000, random_state = 0, n_jobs=-1)\n",
    "# predictor(rfc1, features)\n",
    "# Private Score:0.71188\n",
    "# Public Score: 0.70750\n",
    "\n",
    "# ランダムフォレスト2\n",
    "# features = ['CreditScore', 'Geography', 'Age', 'Tenure', 'Balance', \n",
    "#             'NumOfProducts', 'IsActiveMember', 'EstimatedSalary',\n",
    "#             'CI_used', 'CI_rate', 'Sur_used']\n",
    "# rfc2 = RandomForestClassifier(criterion='log_loss', max_depth=15, max_features=2, n_estimators=4000, random_state = 0, n_jobs=-1)\n",
    "# predictor(rfc2, features)\n",
    "# Private Score:0.71000\n",
    "# Public Score: 0.71011\n",
    "\n",
    "# ランダムフォレスト3\n",
    "# features = ['CreditScore', 'Geography', 'Age', 'Tenure', 'Balance', \n",
    "#             'NumOfProducts', 'IsActiveMember', 'EstimatedSalary',\n",
    "#             'CI_used', 'CI_rate']\n",
    "# rfc3 = RandomForestClassifier(criterion='log_loss', max_depth=15, max_features=2, n_estimators=4000, random_state = 0, n_jobs=-1)\n",
    "# predictor(rfc3, features)\n",
    "# Private Score:0.73760\n",
    "# Public Score: 0.73091\n",
    "\n",
    "# ランダムフォレスト4\n",
    "# features = ['CreditScore', 'Geography', 'Age', 'Tenure', 'Balance', \n",
    "#             'NumOfProducts', 'IsActiveMember', 'EstimatedSalary',\n",
    "#             'CI_used']\n",
    "# rfc4 = RandomForestClassifier(criterion='log_loss', max_depth=15, max_features=2, n_estimators=4000, random_state = 0, n_jobs=-1)\n",
    "# predictor(rfc4, features)\n",
    "# Private Score:0.73972\n",
    "# Public Score: 0.73193\n",
    "\n",
    "# ランダムフォレスト5\n",
    "# features = ['CreditScore', 'Geography', 'Age', 'Tenure', 'Balance', \n",
    "#             'NumOfProducts', 'IsActiveMember', 'EstimatedSalary']\n",
    "# rfc5 = RandomForestClassifier(criterion='log_loss', max_depth=15, max_features=2, n_estimators=4000, random_state = 0, n_jobs=-1)\n",
    "# predictor(rfc5, features)\n",
    "# Private Score:0.74212\n",
    "# Public Score: 0.73364\n",
    "\n",
    "# ランダムフォレスト6\n",
    "# features = ['CreditScore', 'Geography', 'Gender', 'Age', 'Tenure', 'Balance', \n",
    "#             'NumOfProducts', 'HasCrCard', 'IsActiveMember', 'EstimatedSalary']\n",
    "# rfc6 = RandomForestClassifier(criterion='log_loss', max_depth=15, max_features=2, n_estimators=4000, random_state = 0, n_jobs=-1)\n",
    "# predictor(rfc6, features)\n",
    "# Private Score:0.74328\n",
    "# Public Score: 0.73824\n",
    "\n",
    "# ニューラルネットワーク1\n",
    "# features = ['CreditScore', 'Geography', 'Gender', 'Age', 'Tenure', 'Balance', \n",
    "#              'NumOfProducts', 'HasCrCard', 'IsActiveMember', 'EstimatedSalary']\n",
    "# mlp1 = MLPClassifier((100), activation='logistic', solver='lbfgs', max_iter=400)\n",
    "# predictor(mlp1, features)\n",
    "# Private Score:0.74576\n",
    "# Public Score: 0.73979\n",
    "\n",
    "# ニューラルネットワーク2\n",
    "# features = ['CreditScore', 'Geography', 'Gender', 'Age', 'Tenure', 'Balance', \n",
    "#              'NumOfProducts', 'HasCrCard', 'IsActiveMember', 'EstimatedSalary']\n",
    "# mlp2 = MLPClassifier((100, 100), activation='logistic', solver='lbfgs', max_iter=400)\n",
    "# predictor(mlp2, features)\n",
    "# Private Score:0.74817\n",
    "# Public Score: 0.74073\n",
    "\n",
    "# ニューラルネットワーク3\n",
    "# features = ['CreditScore', 'Geography', 'Gender', 'Age', 'Tenure', 'Balance', \n",
    "#             'NumOfProducts', 'HasCrCard', 'IsActiveMember', 'EstimatedSalary']\n",
    "# mlp3 = MLPClassifier((100, 100, 100), activation='logistic', solver='lbfgs', max_iter=400)\n",
    "# predictor(mlp3, features)\n",
    "# Private Score:0.50000\n",
    "# Public Score: 0.50000\n",
    "\n",
    "# ニューラルネットワーク4\n",
    "# features = ['CreditScore', 'Geography', 'Gender', 'Age', 'Tenure', 'Balance', \n",
    "#             'NumOfProducts', 'HasCrCard', 'IsActiveMember', 'EstimatedSalary']\n",
    "# mlp4 = MLPClassifier((200, 200, 200), activation='logistic', solver='lbfgs', max_iter=400)\n",
    "# predictor(mlp4, features)\n",
    "# Private Score:0.50000\n",
    "# Public Score: 0.50000\n",
    "\n",
    "# ニューラルネットワーク5\n",
    "# features = ['CreditScore', 'Geography', 'Gender', 'Age', 'Tenure', 'Balance', \n",
    "#             'NumOfProducts', 'HasCrCard', 'IsActiveMember', 'EstimatedSalary']\n",
    "# mlp5 = MLPClassifier((200, 200), activation='logistic', solver='lbfgs', max_iter=400)\n",
    "# predictor(mlp5, features)\n",
    "# Private Score:0.73846\n",
    "# Public Score: 0.73244\n",
    "\n",
    "# ニューラルネットワーク6\n",
    "# features = ['CreditScore', 'Geography', 'Gender', 'Age', 'Tenure', 'Balance', \n",
    "#             'NumOfProducts', 'HasCrCard', 'IsActiveMember', 'EstimatedSalary']\n",
    "# mlp6 = MLPClassifier((300, 300), activation='logistic', solver='lbfgs', max_iter=400)\n",
    "# predictor(mlp6, features)\n",
    "# Private Score:0.73271\n",
    "# Public Score: 0.72550\n",
    "\n",
    "# ニューラルネットワーク7\n",
    "# features = ['CreditScore', 'Geography', 'Gender', 'Age', 'Tenure', 'Balance', \n",
    "#             'NumOfProducts', 'HasCrCard', 'IsActiveMember', 'EstimatedSalary']\n",
    "# mlp7 = MLPClassifier((100, 100), activation='logistic', solver='adam', learning_rate='adaptive', learning_rate_init=0.1)\n",
    "# predictor(mlp7, features)\n",
    "# Private Score:0.69875\n",
    "# Public Score: 0.68688\n",
    "\n",
    "# ニューラルネットワーク8\n",
    "# features = ['CreditScore', 'Geography', 'Gender', 'Age', 'Tenure', 'Balance', \n",
    "#             'NumOfProducts', 'HasCrCard', 'IsActiveMember', 'EstimatedSalary']\n",
    "# mlp8 = MLPClassifier((200, 200), activation='logistic', solver='adam', learning_rate='adaptive', learning_rate_init=0.1)\n",
    "# predictor(mlp8, features)\n",
    "# Private Score:0.79426\n",
    "# Public Score: 0.79138\n",
    "\n",
    "# ニューラルネットワーク9\n",
    "# features = ['CreditScore', 'Geography', 'Gender', 'Age', 'Tenure', 'Balance', \n",
    "#             'NumOfProducts', 'HasCrCard', 'IsActiveMember', 'EstimatedSalary']\n",
    "# mlp9 = MLPClassifier((100, 100, 100), activation='logistic', solver='adam', learning_rate='adaptive', learning_rate_init=0.1)\n",
    "# predictor(mlp9, features)\n",
    "# Private Score:0.50000\n",
    "# Public Score: 0.50000\n",
    "\n",
    "# ニューラルネットワーク10\n",
    "# features = ['CreditScore', 'Geography', 'Gender', 'Age', 'Tenure', 'Balance', \n",
    "#             'NumOfProducts', 'HasCrCard', 'IsActiveMember', 'EstimatedSalary']\n",
    "# mlp10 = MLPClassifier((100, 100), activation='relu', solver='adam', learning_rate='adaptive', learning_rate_init=0.1)\n",
    "# predictor(mlp10, features)\n",
    "# Private Score:0.76654\n",
    "# Public Score: 0.75907\n",
    "\n",
    "# ニューラルネットワーク11\n",
    "# features = ['CreditScore', 'Geography', 'Gender', 'Age', 'Tenure', 'Balance', \n",
    "#             'NumOfProducts', 'HasCrCard', 'IsActiveMember', 'EstimatedSalary']\n",
    "# mlp11 = MLPClassifier((200, 200), activation='relu', solver='adam', learning_rate='adaptive', learning_rate_init=0.1)\n",
    "# predictor(mlp11, features)\n",
    "# Private Score:0.71848\n",
    "# Public Score: 0.71095\n",
    "\n",
    "# ニューラルネットワーク12\n",
    "# features = ['CreditScore', 'Geography', 'Gender', 'Age', 'Tenure', 'Balance', \n",
    "#             'NumOfProducts', 'HasCrCard', 'IsActiveMember', 'EstimatedSalary']\n",
    "# mlp12 = MLPClassifier((100, 100, 100), activation='relu', solver='adam', learning_rate='adaptive', learning_rate_init=0.1)\n",
    "# predictor(mlp12, features)\n",
    "# Private Score:0.71214\n",
    "# Public Score: 0.70377"
   ]
  }
 ],
 "metadata": {
  "kaggle": {
   "accelerator": "none",
   "dataSources": [
    {
     "databundleVersionId": 7405009,
     "sourceId": 65711,
     "sourceType": "competition"
    }
   ],
   "dockerImageVersionId": 30732,
   "isGpuEnabled": false,
   "isInternetEnabled": true,
   "language": "python",
   "sourceType": "notebook"
  },
  "kernelspec": {
   "display_name": "Python 3",
   "language": "python",
   "name": "python3"
  },
  "language_info": {
   "codemirror_mode": {
    "name": "ipython",
    "version": 3
   },
   "file_extension": ".py",
   "mimetype": "text/x-python",
   "name": "python",
   "nbconvert_exporter": "python",
   "pygments_lexer": "ipython3",
   "version": "3.10.13"
  },
  "papermill": {
   "default_parameters": {},
   "duration": 207.984022,
   "end_time": "2024-06-21T04:15:16.380380",
   "environment_variables": {},
   "exception": null,
   "input_path": "__notebook__.ipynb",
   "output_path": "__notebook__.ipynb",
   "parameters": {},
   "start_time": "2024-06-21T04:11:48.396358",
   "version": "2.5.0"
  }
 },
 "nbformat": 4,
 "nbformat_minor": 5
}
