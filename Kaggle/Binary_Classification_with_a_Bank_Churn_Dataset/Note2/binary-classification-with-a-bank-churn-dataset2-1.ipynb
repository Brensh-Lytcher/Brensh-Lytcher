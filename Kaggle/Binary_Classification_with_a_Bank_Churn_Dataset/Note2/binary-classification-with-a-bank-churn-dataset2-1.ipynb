{
 "cells": [
  {
   "cell_type": "markdown",
   "id": "18b47f55",
   "metadata": {
    "papermill": {
     "duration": 0.006077,
     "end_time": "2024-06-18T13:21:49.152059",
     "exception": false,
     "start_time": "2024-06-18T13:21:49.145982",
     "status": "completed"
    },
    "tags": []
   },
   "source": [
    "# Binary Classification with a Bank Churn Dataset 2-1\n",
    "## 1. ライブラリ"
   ]
  },
  {
   "cell_type": "code",
   "execution_count": 1,
   "id": "ed1189ef",
   "metadata": {
    "execution": {
     "iopub.execute_input": "2024-06-18T13:21:49.165558Z",
     "iopub.status.busy": "2024-06-18T13:21:49.165117Z",
     "iopub.status.idle": "2024-06-18T13:21:52.137240Z",
     "shell.execute_reply": "2024-06-18T13:21:52.135957Z"
    },
    "papermill": {
     "duration": 2.982393,
     "end_time": "2024-06-18T13:21:52.140262",
     "exception": false,
     "start_time": "2024-06-18T13:21:49.157869",
     "status": "completed"
    },
    "tags": []
   },
   "outputs": [],
   "source": [
    "import numpy as np\n",
    "import pandas as pd\n",
    "from sklearn.preprocessing import OrdinalEncoder\n",
    "from sklearn.preprocessing import OneHotEncoder\n",
    "import matplotlib.pyplot as plt\n",
    "import seaborn as sns\n",
    "from sklearn.model_selection import train_test_split\n",
    "\n",
    "from sklearn.ensemble import RandomForestClassifier\n",
    "from sklearn.neural_network import MLPClassifier"
   ]
  },
  {
   "cell_type": "markdown",
   "id": "6e43c5ae",
   "metadata": {
    "papermill": {
     "duration": 0.005383,
     "end_time": "2024-06-18T13:21:52.151966",
     "exception": false,
     "start_time": "2024-06-18T13:21:52.146583",
     "status": "completed"
    },
    "tags": []
   },
   "source": [
    "## 2. データの整理(Binary Classification with a Bank Churn Dataset 1の内容)\n",
    "### 2.1. データ取入れ"
   ]
  },
  {
   "cell_type": "code",
   "execution_count": 2,
   "id": "5712e462",
   "metadata": {
    "execution": {
     "iopub.execute_input": "2024-06-18T13:21:52.165363Z",
     "iopub.status.busy": "2024-06-18T13:21:52.164793Z",
     "iopub.status.idle": "2024-06-18T13:21:52.883093Z",
     "shell.execute_reply": "2024-06-18T13:21:52.881718Z"
    },
    "papermill": {
     "duration": 0.728122,
     "end_time": "2024-06-18T13:21:52.885777",
     "exception": false,
     "start_time": "2024-06-18T13:21:52.157655",
     "status": "completed"
    },
    "tags": []
   },
   "outputs": [],
   "source": [
    "# Binary Classification with a Bank Churn Dataset のデータセット\n",
    "dir_path = '/kaggle/input/playground-series-s4e1/'\n",
    "test = pd.read_csv(dir_path + 'test.csv')       # テストデータ\n",
    "train = pd.read_csv(dir_path + 'train.csv')     # 訓練データ\n",
    "samp_sub = pd.read_csv(dir_path + 'sample_submission.csv')\n",
    "\n",
    "# Bank Customer Churn Prediction のデータセット\n",
    "original = pd.read_csv('/kaggle/input/bank-customer-churn-prediction/Churn_Modelling.csv')\n",
    "original = original.rename({'RowNumber':'id'}, axis = 1)    # 根源データ"
   ]
  },
  {
   "cell_type": "markdown",
   "id": "905e3424",
   "metadata": {
    "papermill": {
     "duration": 0.005525,
     "end_time": "2024-06-18T13:21:52.897863",
     "exception": false,
     "start_time": "2024-06-18T13:21:52.892338",
     "status": "completed"
    },
    "tags": []
   },
   "source": [
    "### 2.2. originalの確認"
   ]
  },
  {
   "cell_type": "code",
   "execution_count": 3,
   "id": "c4ea65b0",
   "metadata": {
    "execution": {
     "iopub.execute_input": "2024-06-18T13:21:52.911453Z",
     "iopub.status.busy": "2024-06-18T13:21:52.911031Z",
     "iopub.status.idle": "2024-06-18T13:21:52.939386Z",
     "shell.execute_reply": "2024-06-18T13:21:52.938171Z"
    },
    "papermill": {
     "duration": 0.038853,
     "end_time": "2024-06-18T13:21:52.942560",
     "exception": false,
     "start_time": "2024-06-18T13:21:52.903707",
     "status": "completed"
    },
    "tags": []
   },
   "outputs": [
    {
     "name": "stdout",
     "output_type": "stream",
     "text": [
      "originalのデータ数   : 10002\n",
      "CustomerIdのデータ数 : 10000\n",
      "\n",
      "          id  CustomerId    Surname  CreditScore Geography  Gender   Age  \\\n",
      "9997    9998    15584532        Liu          709    France  Female  36.0   \n",
      "9998    9999    15682355  Sabbatini          772   Germany    Male  42.0   \n",
      "9999    9999    15682355  Sabbatini          772   Germany    Male  42.0   \n",
      "10000  10000    15628319     Walker          792    France  Female  28.0   \n",
      "10001  10000    15628319     Walker          792    France  Female  28.0   \n",
      "\n",
      "       Tenure    Balance  NumOfProducts  HasCrCard  IsActiveMember  \\\n",
      "9997        7       0.00              1        0.0             1.0   \n",
      "9998        3   75075.31              2        1.0             0.0   \n",
      "9999        3   75075.31              2        1.0             0.0   \n",
      "10000       4  130142.79              1        1.0             0.0   \n",
      "10001       4  130142.79              1        1.0             0.0   \n",
      "\n",
      "       EstimatedSalary  Exited  \n",
      "9997          42085.58       1  \n",
      "9998          92888.52       1  \n",
      "9999          92888.52       1  \n",
      "10000         38190.78       0  \n",
      "10001         38190.78       0  \n",
      "\n",
      "index 9998と9999, 10000と10001のデータが同じなので、整理する。\n"
     ]
    }
   ],
   "source": [
    "print('originalのデータ数   :', len(original))\n",
    "print('CustomerIdのデータ数 :', len(original.CustomerId.unique()), end='\\n\\n')\n",
    "print(original.tail())\n",
    "print('\\nindex 9998と9999, 10000と10001のデータが同じなので、整理する。')\n",
    "original = original.drop(index=[9999, 10001])"
   ]
  },
  {
   "cell_type": "code",
   "execution_count": 4,
   "id": "ea1bb8cb",
   "metadata": {
    "execution": {
     "iopub.execute_input": "2024-06-18T13:21:52.957275Z",
     "iopub.status.busy": "2024-06-18T13:21:52.956436Z",
     "iopub.status.idle": "2024-06-18T13:21:53.009101Z",
     "shell.execute_reply": "2024-06-18T13:21:53.007924Z"
    },
    "papermill": {
     "duration": 0.064168,
     "end_time": "2024-06-18T13:21:53.012980",
     "exception": false,
     "start_time": "2024-06-18T13:21:52.948812",
     "status": "completed"
    },
    "tags": []
   },
   "outputs": [
    {
     "name": "stdout",
     "output_type": "stream",
     "text": [
      "id                   : Nan = 0\n",
      "CustomerId           : Nan = 0\n",
      "Surname              : Nan = 0\n",
      "CreditScore          : Nan = 0\n",
      "Geography            : Nan = 1\n",
      "Gender               : Nan = 0\n",
      "Age                  : Nan = 1\n",
      "Tenure               : Nan = 0\n",
      "Balance              : Nan = 0\n",
      "NumOfProducts        : Nan = 0\n",
      "HasCrCard            : Nan = 1\n",
      "IsActiveMember       : Nan = 1\n",
      "EstimatedSalary      : Nan = 0\n",
      "Exited               : Nan = 0\n",
      "\n",
      " Geography, Age, HasCrCard, IsActiveMemberに欠損値がある\n",
      "\n",
      "--------------------------------------------------------------------------------\n",
      "Geographyに欠損があるデータ:\n",
      "   id  CustomerId   Surname  CreditScore Geography Gender   Age  Tenure  \\\n",
      "6   7    15592531  Bartlett          822       NaN   Male  50.0       7   \n",
      "\n",
      "   Balance  NumOfProducts  HasCrCard  IsActiveMember  EstimatedSalary  Exited  \n",
      "6      0.0              2        1.0             1.0          10062.8       0  \n",
      "--------------------------------------------------------------------------------\n",
      "Ageに欠損があるデータ\n",
      "   id  CustomerId Surname  CreditScore Geography Gender  Age  Tenure  \\\n",
      "9  10    15592389      H?          684    France   Male  NaN       2   \n",
      "\n",
      "     Balance  NumOfProducts  HasCrCard  IsActiveMember  EstimatedSalary  \\\n",
      "9  134603.88              1        1.0             1.0         71725.73   \n",
      "\n",
      "   Exited  \n",
      "9       0  \n",
      "--------------------------------------------------------------------------------\n",
      "HasCrCardに欠損があるデータ\n",
      "   id  CustomerId   Surname  CreditScore Geography  Gender   Age  Tenure  \\\n",
      "4   5    15737888  Mitchell          850     Spain  Female  43.0       2   \n",
      "\n",
      "     Balance  NumOfProducts  HasCrCard  IsActiveMember  EstimatedSalary  \\\n",
      "4  125510.82              1        NaN             1.0          79084.1   \n",
      "\n",
      "   Exited  \n",
      "4       0  \n",
      "--------------------------------------------------------------------------------\n",
      "IsActiveMemberに欠損があるデータ\n",
      "   id  CustomerId Surname  CreditScore Geography Gender   Age  Tenure  \\\n",
      "8   9    15792365      He          501    France   Male  44.0       4   \n",
      "\n",
      "     Balance  NumOfProducts  HasCrCard  IsActiveMember  EstimatedSalary  \\\n",
      "8  142051.07              2        0.0             NaN          74940.5   \n",
      "\n",
      "   Exited  \n",
      "8       0  \n",
      "--------------------------------------------------------------------------------\n",
      "\n",
      "\n",
      "欠損のあるデータが4つしかないので、全部削除する\n"
     ]
    }
   ],
   "source": [
    "for col in original.columns:\n",
    "    print(col.ljust(20), ': Nan =', original[col].isnull().sum())\n",
    "print(\"\\n Geography, Age, HasCrCard, IsActiveMemberに欠損値がある\\n\")\n",
    "print('-'*80)\n",
    "print(\"Geographyに欠損があるデータ:\")\n",
    "print(original[original.Geography.isnull()])\n",
    "print('-'*80)\n",
    "print(\"Ageに欠損があるデータ\")\n",
    "print(original[original.Age.isnull()])\n",
    "print('-'*80)\n",
    "print(\"HasCrCardに欠損があるデータ\")\n",
    "print(original[original.HasCrCard.isnull()])\n",
    "print('-'*80)\n",
    "print(\"IsActiveMemberに欠損があるデータ\")\n",
    "print(original[original.IsActiveMember.isnull()])\n",
    "print('-'*80)\n",
    "print(\"\\n\\n欠損のあるデータが4つしかないので、全部削除する\")\n",
    "original = original.drop(index=[4, 6, 8, 9])"
   ]
  },
  {
   "cell_type": "code",
   "execution_count": 5,
   "id": "eb90afc7",
   "metadata": {
    "execution": {
     "iopub.execute_input": "2024-06-18T13:21:53.031278Z",
     "iopub.status.busy": "2024-06-18T13:21:53.030597Z",
     "iopub.status.idle": "2024-06-18T13:21:53.046512Z",
     "shell.execute_reply": "2024-06-18T13:21:53.044829Z"
    },
    "papermill": {
     "duration": 0.027843,
     "end_time": "2024-06-18T13:21:53.049460",
     "exception": false,
     "start_time": "2024-06-18T13:21:53.021617",
     "status": "completed"
    },
    "tags": []
   },
   "outputs": [
    {
     "name": "stdout",
     "output_type": "stream",
     "text": [
      "CreditScore          : 350 ~ 850\n",
      "Age                  : 18.0 ~ 92.0\n",
      "Tenure               : 0 ~ 10\n",
      "Balance              : 0.0 ~ 250898.09\n",
      "NumOfProducts        : 1 ~ 4\n",
      "EstimatedSalary      : 11.58 ~ 199992.48\n",
      "\n",
      "originalのデータ分布がtrain, testと一致する。\n"
     ]
    }
   ],
   "source": [
    "for col in ['CreditScore', 'Age', 'Tenure', 'Balance', 'NumOfProducts', 'EstimatedSalary']:\n",
    "    print(col.ljust(20), ':', original[col].min(), '~', original[col].max())\n",
    "print(\"\\noriginalのデータ分布がtrain, testと一致する。\")"
   ]
  },
  {
   "cell_type": "code",
   "execution_count": 6,
   "id": "6ffd29f1",
   "metadata": {
    "execution": {
     "iopub.execute_input": "2024-06-18T13:21:53.064189Z",
     "iopub.status.busy": "2024-06-18T13:21:53.063414Z",
     "iopub.status.idle": "2024-06-18T13:21:53.075732Z",
     "shell.execute_reply": "2024-06-18T13:21:53.074470Z"
    },
    "papermill": {
     "duration": 0.022453,
     "end_time": "2024-06-18T13:21:53.078305",
     "exception": false,
     "start_time": "2024-06-18T13:21:53.055852",
     "status": "completed"
    },
    "tags": []
   },
   "outputs": [],
   "source": [
    "# originalとtrainの結合\n",
    "or_tr = pd.concat([train, original])    # 結合データ"
   ]
  },
  {
   "cell_type": "markdown",
   "id": "d29395e2",
   "metadata": {
    "papermill": {
     "duration": 0.005711,
     "end_time": "2024-06-18T13:21:53.090121",
     "exception": false,
     "start_time": "2024-06-18T13:21:53.084410",
     "status": "completed"
    },
    "tags": []
   },
   "source": [
    "### 2.3. 型変換"
   ]
  },
  {
   "cell_type": "code",
   "execution_count": 7,
   "id": "afc5b678",
   "metadata": {
    "execution": {
     "iopub.execute_input": "2024-06-18T13:21:53.104013Z",
     "iopub.status.busy": "2024-06-18T13:21:53.103618Z",
     "iopub.status.idle": "2024-06-18T13:21:53.186312Z",
     "shell.execute_reply": "2024-06-18T13:21:53.185237Z"
    },
    "papermill": {
     "duration": 0.093015,
     "end_time": "2024-06-18T13:21:53.189345",
     "exception": false,
     "start_time": "2024-06-18T13:21:53.096330",
     "status": "completed"
    },
    "tags": []
   },
   "outputs": [],
   "source": [
    "# 国データを整数データに変換するカテゴリ\n",
    "Geography_cat = {'France'  : 0,\n",
    "                 'Spain'   : 1,\n",
    "                 'Germany' : 2}\n",
    "# 性別データを整数データに変換するカテゴリ\n",
    "Gender_cat = {'Female' : 0,\n",
    "              'Male'   : 1}\n",
    "\n",
    "# 全データの型変換\n",
    "for data in [train, test, original, or_tr]:\n",
    "    data.Geography = data.Geography.map(Geography_cat)\n",
    "    data.Gender = data.Gender.map(Gender_cat)"
   ]
  },
  {
   "cell_type": "markdown",
   "id": "1a688b68",
   "metadata": {
    "papermill": {
     "duration": 0.006037,
     "end_time": "2024-06-18T13:21:53.204274",
     "exception": false,
     "start_time": "2024-06-18T13:21:53.198237",
     "status": "completed"
    },
    "tags": []
   },
   "source": [
    "### 2.4. 作成した特徴量"
   ]
  },
  {
   "cell_type": "code",
   "execution_count": 8,
   "id": "f796a170",
   "metadata": {
    "execution": {
     "iopub.execute_input": "2024-06-18T13:21:53.217955Z",
     "iopub.status.busy": "2024-06-18T13:21:53.217556Z",
     "iopub.status.idle": "2024-06-18T13:24:11.887243Z",
     "shell.execute_reply": "2024-06-18T13:24:11.886001Z"
    },
    "papermill": {
     "duration": 138.680146,
     "end_time": "2024-06-18T13:24:11.890321",
     "exception": false,
     "start_time": "2024-06-18T13:21:53.210175",
     "status": "completed"
    },
    "tags": []
   },
   "outputs": [],
   "source": [
    "# CustomerIdの使用回数\n",
    "# trainとtest\n",
    "CI_used_t_cat = {}\n",
    "for ci in set(train.CustomerId.unique()).union(set(test.CustomerId.unique())):\n",
    "    # CustomerIdとその(trainとtest中の)使用回数を対応させるカテゴリ\n",
    "    CI_used_t_cat[ci] = len(train[train.CustomerId==ci]) + len(test[test.CustomerId==ci])\n",
    "for data in [train, test]:\n",
    "    data['CI_used_t'] = data.CustomerId.map(CI_used_t_cat)\n",
    "\n",
    "# or_trとtest\n",
    "CI_used_ot_cat = {}\n",
    "for ci in set(or_tr.CustomerId.unique()).union(set(test.CustomerId.unique())):\n",
    "    # CustomerIdとその(or_trとtest中の)使用回数を対応させるカテゴリ\n",
    "    CI_used_ot_cat[ci] = len(or_tr[or_tr.CustomerId==ci]) + len(test[test.CustomerId==ci])\n",
    "for data in [or_tr, test]:\n",
    "    data['CI_used_ot'] = data.CustomerId.map(CI_used_ot_cat)\n",
    "\n",
    "    \n",
    "# 各CustomerIdの口座解除率\n",
    "# trainとtest\n",
    "CI_rate_t_cat = {}\n",
    "rate_t = train.Exited.sum()/len(train)\n",
    "for ci in train.CustomerId.unique():\n",
    "    # CustomerIdとその(train中の)口座解除確率を対応させる\n",
    "    CI_rate_t_cat[ci] = (len(train[(train.CustomerId==ci)&(train.Exited==1)])+rate_t)/(len(train[train.CustomerId==ci])+1)\n",
    "for ci in set(test.CustomerId.unique())-set(train.CustomerId.unique()):\n",
    "    # trainにないCustomerIdをtrain全体の口座解除確率に対応させる\n",
    "    CI_rate_t_cat[ci] = rate_t\n",
    "for data in [train, test]:\n",
    "    data['CI_rate_t'] = data.CustomerId.map(CI_rate_t_cat)\n",
    "    \n",
    "# or_trとtest\n",
    "CI_rate_ot_cat = {}\n",
    "rate_ot = or_tr.Exited.sum()/len(or_tr)\n",
    "for ci in or_tr.CustomerId.unique():\n",
    "    # CustomerIdとその(or_tr中の)口座解除確率を対応させる\n",
    "    CI_rate_ot_cat[ci] = (len(or_tr[(or_tr.CustomerId==ci)&(or_tr.Exited==1)])+rate_ot)/(len(or_tr[or_tr.CustomerId==ci])+1)\n",
    "for ci in set(test.CustomerId.unique())-set(or_tr.CustomerId.unique()):\n",
    "    # or_trにないCustomerIdをor_tr全体の口座解除確率に対応させる\n",
    "    CI_rate_ot_cat[ci] = rate_ot\n",
    "for data in [or_tr, test]:\n",
    "    data['CI_rate_ot'] = data.CustomerId.map(CI_rate_ot_cat)"
   ]
  },
  {
   "cell_type": "markdown",
   "id": "bece5497",
   "metadata": {
    "papermill": {
     "duration": 0.005957,
     "end_time": "2024-06-18T13:24:11.902631",
     "exception": false,
     "start_time": "2024-06-18T13:24:11.896674",
     "status": "completed"
    },
    "tags": []
   },
   "source": [
    "## 3. ニューラルネットワークモデル\n",
    "### 3.1. スケーリング"
   ]
  },
  {
   "cell_type": "code",
   "execution_count": 9,
   "id": "e77b2f10",
   "metadata": {
    "execution": {
     "iopub.execute_input": "2024-06-18T13:24:11.916682Z",
     "iopub.status.busy": "2024-06-18T13:24:11.916275Z",
     "iopub.status.idle": "2024-06-18T13:24:11.972528Z",
     "shell.execute_reply": "2024-06-18T13:24:11.971466Z"
    },
    "papermill": {
     "duration": 0.066411,
     "end_time": "2024-06-18T13:24:11.975104",
     "exception": false,
     "start_time": "2024-06-18T13:24:11.908693",
     "status": "completed"
    },
    "tags": []
   },
   "outputs": [],
   "source": [
    "for data in [train, test, original, or_tr]:\n",
    "    data.CreditScore = (data.CreditScore-data.CreditScore.min())/(data.CreditScore.max()-data.CreditScore.min())\n",
    "    data.Geography = data.Geography/2\n",
    "    data.Age = data.Age/100\n",
    "    data.Tenure = data.Tenure/10\n",
    "    data.Balance = (data.Balance-data.Balance.min())/(data.Balance.max()-data.Balance.min())\n",
    "    data.NumOfProducts = data.NumOfProducts/4\n",
    "    data.EstimatedSalary = (data.EstimatedSalary-data.EstimatedSalary.min())/(data.EstimatedSalary.max()-data.EstimatedSalary.min())\n",
    "    if 'CI_used_ot' in data.columns:\n",
    "        data.CI_used_ot = data.CI_used_ot/200\n",
    "    if 'CI_used_t' in data.columns:\n",
    "        data.CI_used_t = data.CI_used_t/200"
   ]
  },
  {
   "cell_type": "markdown",
   "id": "31f2d86e",
   "metadata": {
    "papermill": {
     "duration": 0.005701,
     "end_time": "2024-06-18T13:24:11.986997",
     "exception": false,
     "start_time": "2024-06-18T13:24:11.981296",
     "status": "completed"
    },
    "tags": []
   },
   "source": [
    "### 3.2. 隠れ層"
   ]
  },
  {
   "cell_type": "code",
   "execution_count": 10,
   "id": "765e1ff9",
   "metadata": {
    "execution": {
     "iopub.execute_input": "2024-06-18T13:24:12.001634Z",
     "iopub.status.busy": "2024-06-18T13:24:12.001206Z",
     "iopub.status.idle": "2024-06-18T13:46:26.676902Z",
     "shell.execute_reply": "2024-06-18T13:46:26.675096Z"
    },
    "papermill": {
     "duration": 1334.69922,
     "end_time": "2024-06-18T13:46:26.692392",
     "exception": false,
     "start_time": "2024-06-18T13:24:11.993172",
     "status": "completed"
    },
    "tags": []
   },
   "outputs": [
    {
     "name": "stderr",
     "output_type": "stream",
     "text": [
      "/opt/conda/lib/python3.10/site-packages/sklearn/neural_network/_multilayer_perceptron.py:686: ConvergenceWarning: Stochastic Optimizer: Maximum iterations (200) reached and the optimization hasn't converged yet.\n",
      "  warnings.warn(\n"
     ]
    },
    {
     "name": "stdout",
     "output_type": "stream",
     "text": [
      "l= 100 \n",
      " score= 0.8800670558057805\n"
     ]
    },
    {
     "name": "stderr",
     "output_type": "stream",
     "text": [
      "/opt/conda/lib/python3.10/site-packages/sklearn/neural_network/_multilayer_perceptron.py:686: ConvergenceWarning: Stochastic Optimizer: Maximum iterations (200) reached and the optimization hasn't converged yet.\n",
      "  warnings.warn(\n"
     ]
    },
    {
     "name": "stdout",
     "output_type": "stream",
     "text": [
      "l= (50, 100) \n",
      " score= 0.8758457716467047\n"
     ]
    },
    {
     "name": "stderr",
     "output_type": "stream",
     "text": [
      "/opt/conda/lib/python3.10/site-packages/sklearn/neural_network/_multilayer_perceptron.py:686: ConvergenceWarning: Stochastic Optimizer: Maximum iterations (200) reached and the optimization hasn't converged yet.\n",
      "  warnings.warn(\n"
     ]
    },
    {
     "name": "stdout",
     "output_type": "stream",
     "text": [
      "l= (100, 100) \n",
      " score= 0.8736644382056513\n"
     ]
    },
    {
     "name": "stderr",
     "output_type": "stream",
     "text": [
      "/opt/conda/lib/python3.10/site-packages/sklearn/neural_network/_multilayer_perceptron.py:686: ConvergenceWarning: Stochastic Optimizer: Maximum iterations (200) reached and the optimization hasn't converged yet.\n",
      "  warnings.warn(\n"
     ]
    },
    {
     "name": "stdout",
     "output_type": "stream",
     "text": [
      "l= (50, 100, 100) \n",
      " score= 0.8727757468037406\n"
     ]
    },
    {
     "name": "stderr",
     "output_type": "stream",
     "text": [
      "/opt/conda/lib/python3.10/site-packages/sklearn/neural_network/_multilayer_perceptron.py:686: ConvergenceWarning: Stochastic Optimizer: Maximum iterations (200) reached and the optimization hasn't converged yet.\n",
      "  warnings.warn(\n"
     ]
    },
    {
     "name": "stdout",
     "output_type": "stream",
     "text": [
      "l= (100, 100, 50) \n",
      " score= 0.8721698208478924\n",
      "l= (50, 100, 50) \n",
      " score= 0.8748358950536245\n"
     ]
    },
    {
     "name": "stderr",
     "output_type": "stream",
     "text": [
      "/opt/conda/lib/python3.10/site-packages/sklearn/neural_network/_multilayer_perceptron.py:686: ConvergenceWarning: Stochastic Optimizer: Maximum iterations (200) reached and the optimization hasn't converged yet.\n",
      "  warnings.warn(\n"
     ]
    }
   ],
   "source": [
    "features_for_mlp = ['CreditScore', 'Geography', 'Age', 'Tenure', 'Balance',\n",
    "                    'NumOfProducts', 'IsActiveMember', 'EstimatedSalary',\n",
    "                    'CI_used_t', 'CI_rate_t']\n",
    "tra, val = train_test_split(train, test_size = 0.3)\n",
    "layers = [(100), (50, 100), (100, 100), (50, 100, 100), (100, 100, 50), (50, 100, 50)]\n",
    "for l in layers:\n",
    "    mlp = MLPClassifier(hidden_layer_sizes=l, solver='sgd', learning_rate='adaptive', learning_rate_init=0.3, random_state=0)\n",
    "    mlp.fit(tra[features_for_mlp], tra.Exited)\n",
    "    print('l=', l, '\\n score=', mlp.score(val[features_for_mlp], val.Exited))"
   ]
  },
  {
   "cell_type": "markdown",
   "id": "d6582d21",
   "metadata": {
    "papermill": {
     "duration": 0.010796,
     "end_time": "2024-06-18T13:46:26.714050",
     "exception": false,
     "start_time": "2024-06-18T13:46:26.703254",
     "status": "completed"
    },
    "tags": []
   },
   "source": [
    "### 3.3. 活性化関数"
   ]
  },
  {
   "cell_type": "code",
   "execution_count": 11,
   "id": "a82d28fd",
   "metadata": {
    "execution": {
     "iopub.execute_input": "2024-06-18T13:46:26.739055Z",
     "iopub.status.busy": "2024-06-18T13:46:26.738540Z",
     "iopub.status.idle": "2024-06-18T14:12:21.895181Z",
     "shell.execute_reply": "2024-06-18T14:12:21.893740Z"
    },
    "papermill": {
     "duration": 1555.18694,
     "end_time": "2024-06-18T14:12:21.912665",
     "exception": false,
     "start_time": "2024-06-18T13:46:26.725725",
     "status": "completed"
    },
    "tags": []
   },
   "outputs": [
    {
     "name": "stdout",
     "output_type": "stream",
     "text": [
      "identity: 0.8464785603199289\n"
     ]
    },
    {
     "name": "stderr",
     "output_type": "stream",
     "text": [
      "/opt/conda/lib/python3.10/site-packages/sklearn/neural_network/_multilayer_perceptron.py:686: ConvergenceWarning: Stochastic Optimizer: Maximum iterations (200) reached and the optimization hasn't converged yet.\n",
      "  warnings.warn(\n"
     ]
    },
    {
     "name": "stdout",
     "output_type": "stream",
     "text": [
      "logistic: 0.8789561915533922\n"
     ]
    },
    {
     "name": "stderr",
     "output_type": "stream",
     "text": [
      "/opt/conda/lib/python3.10/site-packages/sklearn/neural_network/_multilayer_perceptron.py:686: ConvergenceWarning: Stochastic Optimizer: Maximum iterations (200) reached and the optimization hasn't converged yet.\n",
      "  warnings.warn(\n"
     ]
    },
    {
     "name": "stdout",
     "output_type": "stream",
     "text": [
      "tanh    : 0.8736442406737897\n",
      "relu    : 0.8718870554018299\n"
     ]
    },
    {
     "name": "stderr",
     "output_type": "stream",
     "text": [
      "/opt/conda/lib/python3.10/site-packages/sklearn/neural_network/_multilayer_perceptron.py:686: ConvergenceWarning: Stochastic Optimizer: Maximum iterations (200) reached and the optimization hasn't converged yet.\n",
      "  warnings.warn(\n"
     ]
    }
   ],
   "source": [
    "features_for_mlp = ['CreditScore', 'Geography', 'Age', 'Tenure', 'Balance',\n",
    "                    'NumOfProducts', 'IsActiveMember', 'EstimatedSalary',\n",
    "                    'CI_used_t', 'CI_rate_t']\n",
    "tra, val = train_test_split(train, test_size = 0.3)\n",
    "mlp = MLPClassifier((50, 100, 100), activation='identity', solver='sgd', learning_rate='adaptive', learning_rate_init=0.3, random_state=0)\n",
    "mlp.fit(tra[features_for_mlp], tra.Exited)\n",
    "print('identity:', mlp.score(val[features_for_mlp], val.Exited))\n",
    "mlp = MLPClassifier((50, 100, 100), activation='logistic', solver='sgd', learning_rate='adaptive', learning_rate_init=0.3, random_state=0)\n",
    "mlp.fit(tra[features_for_mlp], tra.Exited)\n",
    "print('logistic:', mlp.score(val[features_for_mlp], val.Exited))\n",
    "mlp = MLPClassifier((50, 100, 100), activation='tanh', solver='sgd', learning_rate='adaptive', learning_rate_init=0.3, random_state=0)\n",
    "mlp.fit(tra[features_for_mlp], tra.Exited)\n",
    "print('tanh    :', mlp.score(val[features_for_mlp], val.Exited))\n",
    "mlp = MLPClassifier((50, 100, 100), activation='relu', solver='sgd', learning_rate='adaptive', learning_rate_init=0.3, random_state=0)\n",
    "mlp.fit(tra[features_for_mlp], tra.Exited)\n",
    "print('relu    :', mlp.score(val[features_for_mlp], val.Exited))"
   ]
  },
  {
   "cell_type": "markdown",
   "id": "273beb4e",
   "metadata": {
    "papermill": {
     "duration": 0.011754,
     "end_time": "2024-06-18T14:12:21.936279",
     "exception": false,
     "start_time": "2024-06-18T14:12:21.924525",
     "status": "completed"
    },
    "tags": []
   },
   "source": [
    "### 3.4. 最適化手法と最大反復学習回数\n",
    "#### 3.4.1. 準ニュートン法"
   ]
  },
  {
   "cell_type": "code",
   "execution_count": 12,
   "id": "3e50dba6",
   "metadata": {
    "execution": {
     "iopub.execute_input": "2024-06-18T14:12:21.964930Z",
     "iopub.status.busy": "2024-06-18T14:12:21.964392Z",
     "iopub.status.idle": "2024-06-18T15:01:09.463560Z",
     "shell.execute_reply": "2024-06-18T15:01:09.462382Z"
    },
    "papermill": {
     "duration": 2927.517619,
     "end_time": "2024-06-18T15:01:09.466126",
     "exception": false,
     "start_time": "2024-06-18T14:12:21.948507",
     "status": "completed"
    },
    "tags": []
   },
   "outputs": [
    {
     "name": "stderr",
     "output_type": "stream",
     "text": [
      "/opt/conda/lib/python3.10/site-packages/sklearn/neural_network/_multilayer_perceptron.py:541: ConvergenceWarning: lbfgs failed to converge (status=1):\n",
      "STOP: TOTAL NO. of ITERATIONS REACHED LIMIT.\n",
      "\n",
      "Increase the number of iterations (max_iter) or scale the data as shown in:\n",
      "    https://scikit-learn.org/stable/modules/preprocessing.html\n",
      "  self.n_iter_ = _check_optimize_result(\"lbfgs\", opt_res, self.max_iter)\n",
      "/opt/conda/lib/python3.10/site-packages/sklearn/neural_network/_multilayer_perceptron.py:541: ConvergenceWarning: lbfgs failed to converge (status=1):\n",
      "STOP: TOTAL NO. of ITERATIONS REACHED LIMIT.\n",
      "\n",
      "Increase the number of iterations (max_iter) or scale the data as shown in:\n",
      "    https://scikit-learn.org/stable/modules/preprocessing.html\n",
      "  self.n_iter_ = _check_optimize_result(\"lbfgs\", opt_res, self.max_iter)\n",
      "/opt/conda/lib/python3.10/site-packages/sklearn/neural_network/_multilayer_perceptron.py:541: ConvergenceWarning: lbfgs failed to converge (status=1):\n",
      "STOP: TOTAL NO. of ITERATIONS REACHED LIMIT.\n",
      "\n",
      "Increase the number of iterations (max_iter) or scale the data as shown in:\n",
      "    https://scikit-learn.org/stable/modules/preprocessing.html\n",
      "  self.n_iter_ = _check_optimize_result(\"lbfgs\", opt_res, self.max_iter)\n",
      "/opt/conda/lib/python3.10/site-packages/sklearn/neural_network/_multilayer_perceptron.py:541: ConvergenceWarning: lbfgs failed to converge (status=1):\n",
      "STOP: TOTAL NO. of ITERATIONS REACHED LIMIT.\n",
      "\n",
      "Increase the number of iterations (max_iter) or scale the data as shown in:\n",
      "    https://scikit-learn.org/stable/modules/preprocessing.html\n",
      "  self.n_iter_ = _check_optimize_result(\"lbfgs\", opt_res, self.max_iter)\n",
      "/opt/conda/lib/python3.10/site-packages/sklearn/neural_network/_multilayer_perceptron.py:541: ConvergenceWarning: lbfgs failed to converge (status=1):\n",
      "STOP: TOTAL NO. of ITERATIONS REACHED LIMIT.\n",
      "\n",
      "Increase the number of iterations (max_iter) or scale the data as shown in:\n",
      "    https://scikit-learn.org/stable/modules/preprocessing.html\n",
      "  self.n_iter_ = _check_optimize_result(\"lbfgs\", opt_res, self.max_iter)\n",
      "/opt/conda/lib/python3.10/site-packages/sklearn/neural_network/_multilayer_perceptron.py:541: ConvergenceWarning: lbfgs failed to converge (status=1):\n",
      "STOP: TOTAL NO. of ITERATIONS REACHED LIMIT.\n",
      "\n",
      "Increase the number of iterations (max_iter) or scale the data as shown in:\n",
      "    https://scikit-learn.org/stable/modules/preprocessing.html\n",
      "  self.n_iter_ = _check_optimize_result(\"lbfgs\", opt_res, self.max_iter)\n",
      "/opt/conda/lib/python3.10/site-packages/sklearn/neural_network/_multilayer_perceptron.py:541: ConvergenceWarning: lbfgs failed to converge (status=1):\n",
      "STOP: TOTAL NO. of ITERATIONS REACHED LIMIT.\n",
      "\n",
      "Increase the number of iterations (max_iter) or scale the data as shown in:\n",
      "    https://scikit-learn.org/stable/modules/preprocessing.html\n",
      "  self.n_iter_ = _check_optimize_result(\"lbfgs\", opt_res, self.max_iter)\n"
     ]
    },
    {
     "data": {
      "image/png": "[encoded data removed]",
      "text/plain": [
       "<Figure size 640x480 with 1 Axes>"
      ]
     },
     "metadata": {},
     "output_type": "display_data"
    }
   ],
   "source": [
    "features_for_mlp = ['CreditScore', 'Geography', 'Age', 'Tenure', 'Balance',\n",
    "                    'NumOfProducts', 'IsActiveMember', 'EstimatedSalary',\n",
    "                    'CI_used_t', 'CI_rate_t']\n",
    "tra, val = train_test_split(train, test_size = 0.3)\n",
    "max_iter = [70, 100, 200, 300, 500, 700, 1000]\n",
    "scores = []\n",
    "for i in max_iter:\n",
    "    mlp = MLPClassifier((50, 100, 100), solver='lbfgs', max_iter=i, random_state=0)\n",
    "    mlp.fit(tra[features_for_mlp], tra.Exited)\n",
    "    scores.append(mlp.score(val[features_for_mlp], val.Exited))\n",
    "fig = plt.figure()\n",
    "plt.plot(max_iter, scores, label='lbfgs')\n",
    "plt.xlabel('max_iter')\n",
    "plt.ylabel('score')\n",
    "plt.grid()\n",
    "plt.legend()\n",
    "plt.show()"
   ]
  },
  {
   "cell_type": "markdown",
   "id": "c97bc069",
   "metadata": {
    "papermill": {
     "duration": 0.008273,
     "end_time": "2024-06-18T15:01:09.483296",
     "exception": false,
     "start_time": "2024-06-18T15:01:09.475023",
     "status": "completed"
    },
    "tags": []
   },
   "source": [
    "### 3.4.2. 勾配降下法"
   ]
  },
  {
   "cell_type": "code",
   "execution_count": 13,
   "id": "b18faff2",
   "metadata": {
    "execution": {
     "iopub.execute_input": "2024-06-18T15:01:09.502213Z",
     "iopub.status.busy": "2024-06-18T15:01:09.501773Z",
     "iopub.status.idle": "2024-06-18T16:13:21.556346Z",
     "shell.execute_reply": "2024-06-18T16:13:21.554888Z"
    },
    "papermill": {
     "duration": 4332.077075,
     "end_time": "2024-06-18T16:13:21.568953",
     "exception": false,
     "start_time": "2024-06-18T15:01:09.491878",
     "status": "completed"
    },
    "tags": []
   },
   "outputs": [
    {
     "name": "stderr",
     "output_type": "stream",
     "text": [
      "/opt/conda/lib/python3.10/site-packages/sklearn/neural_network/_multilayer_perceptron.py:686: ConvergenceWarning: Stochastic Optimizer: Maximum iterations (30) reached and the optimization hasn't converged yet.\n",
      "  warnings.warn(\n",
      "/opt/conda/lib/python3.10/site-packages/sklearn/neural_network/_multilayer_perceptron.py:686: ConvergenceWarning: Stochastic Optimizer: Maximum iterations (70) reached and the optimization hasn't converged yet.\n",
      "  warnings.warn(\n",
      "/opt/conda/lib/python3.10/site-packages/sklearn/neural_network/_multilayer_perceptron.py:686: ConvergenceWarning: Stochastic Optimizer: Maximum iterations (100) reached and the optimization hasn't converged yet.\n",
      "  warnings.warn(\n",
      "/opt/conda/lib/python3.10/site-packages/sklearn/neural_network/_multilayer_perceptron.py:686: ConvergenceWarning: Stochastic Optimizer: Maximum iterations (200) reached and the optimization hasn't converged yet.\n",
      "  warnings.warn(\n",
      "/opt/conda/lib/python3.10/site-packages/sklearn/neural_network/_multilayer_perceptron.py:686: ConvergenceWarning: Stochastic Optimizer: Maximum iterations (300) reached and the optimization hasn't converged yet.\n",
      "  warnings.warn(\n",
      "/opt/conda/lib/python3.10/site-packages/sklearn/neural_network/_multilayer_perceptron.py:686: ConvergenceWarning: Stochastic Optimizer: Maximum iterations (500) reached and the optimization hasn't converged yet.\n",
      "  warnings.warn(\n"
     ]
    },
    {
     "data": {
      "image/png": "[encoded data removed]",
      "text/plain": [
       "<Figure size 640x480 with 1 Axes>"
      ]
     },
     "metadata": {},
     "output_type": "display_data"
    }
   ],
   "source": [
    "features_for_mlp = ['CreditScore', 'Geography', 'Age', 'Tenure', 'Balance',\n",
    "                    'NumOfProducts', 'IsActiveMember', 'EstimatedSalary',\n",
    "                    'CI_used_t', 'CI_rate_t']\n",
    "tra, val = train_test_split(train, test_size = 0.3)\n",
    "max_iter = [30, 70, 100, 200, 300, 500, 700, 1000, 1300]\n",
    "scores = []\n",
    "for i in max_iter:\n",
    "    mlp = MLPClassifier((50, 100, 100), solver='sgd', max_iter=i, learning_rate='adaptive', learning_rate_init=0.3, random_state=0)\n",
    "    mlp.fit(tra[features_for_mlp], tra.Exited)\n",
    "    scores.append(mlp.score(val[features_for_mlp], val.Exited))\n",
    "fig = plt.figure()\n",
    "plt.plot(max_iter, scores, label='sgd')\n",
    "plt.xlabel('max_iter')\n",
    "plt.ylabel('score')\n",
    "plt.grid()\n",
    "plt.legend()\n",
    "plt.show()"
   ]
  },
  {
   "cell_type": "markdown",
   "id": "0c826a0f",
   "metadata": {
    "papermill": {
     "duration": 0.009295,
     "end_time": "2024-06-18T16:13:21.587736",
     "exception": false,
     "start_time": "2024-06-18T16:13:21.578441",
     "status": "completed"
    },
    "tags": []
   },
   "source": [
    "### 3.4.3. 適応的モーメント推定"
   ]
  },
  {
   "cell_type": "code",
   "execution_count": 14,
   "id": "a1d3b929",
   "metadata": {
    "execution": {
     "iopub.execute_input": "2024-06-18T16:13:21.608627Z",
     "iopub.status.busy": "2024-06-18T16:13:21.608242Z",
     "iopub.status.idle": "2024-06-18T16:20:33.845342Z",
     "shell.execute_reply": "2024-06-18T16:20:33.844311Z"
    },
    "papermill": {
     "duration": 432.260962,
     "end_time": "2024-06-18T16:20:33.858225",
     "exception": false,
     "start_time": "2024-06-18T16:13:21.597263",
     "status": "completed"
    },
    "tags": []
   },
   "outputs": [
    {
     "data": {
      "image/png": "[encoded data removed]",
      "text/plain": [
       "<Figure size 640x480 with 1 Axes>"
      ]
     },
     "metadata": {},
     "output_type": "display_data"
    }
   ],
   "source": [
    "features_for_mlp = ['CreditScore', 'Geography', 'Age', 'Tenure', 'Balance',\n",
    "                    'NumOfProducts', 'IsActiveMember', 'EstimatedSalary',\n",
    "                    'CI_used_t', 'CI_rate_t']\n",
    "tra, val = train_test_split(train, test_size = 0.3)\n",
    "max_iter = [50, 100, 200, 300, 400]\n",
    "scores = []\n",
    "for i in max_iter:\n",
    "    mlp = MLPClassifier((50, 100, 100), solver='adam', max_iter=i, learning_rate_init=0.3, random_state=0)\n",
    "    mlp.fit(tra[features_for_mlp], tra.Exited)\n",
    "    scores.append(mlp.score(val[features_for_mlp], val.Exited))\n",
    "fig = plt.figure()\n",
    "plt.plot(max_iter, scores, label='adam')\n",
    "plt.xlabel('max_iter')\n",
    "plt.ylabel('score')\n",
    "plt.grid()\n",
    "plt.legend()\n",
    "plt.show()"
   ]
  }
 ],
 "metadata": {
  "kaggle": {
   "accelerator": "none",
   "dataSources": [
    {
     "databundleVersionId": 7405009,
     "sourceId": 65711,
     "sourceType": "competition"
    },
    {
     "datasetId": 3191230,
     "sourceId": 5536933,
     "sourceType": "datasetVersion"
    }
   ],
   "dockerImageVersionId": 30733,
   "isGpuEnabled": false,
   "isInternetEnabled": true,
   "language": "python",
   "sourceType": "notebook"
  },
  "kernelspec": {
   "display_name": "Python 3",
   "language": "python",
   "name": "python3"
  },
  "language_info": {
   "codemirror_mode": {
    "name": "ipython",
    "version": 3
   },
   "file_extension": ".py",
   "mimetype": "text/x-python",
   "name": "python",
   "nbconvert_exporter": "python",
   "pygments_lexer": "ipython3",
   "version": "3.10.13"
  },
  "papermill": {
   "default_parameters": {},
   "duration": 10728.815633,
   "end_time": "2024-06-18T16:20:34.609256",
   "environment_variables": {},
   "exception": null,
   "input_path": "__notebook__.ipynb",
   "output_path": "__notebook__.ipynb",
   "parameters": {},
   "start_time": "2024-06-18T13:21:45.793623",
   "version": "2.5.0"
  }
 },
 "nbformat": 4,
 "nbformat_minor": 5
}
